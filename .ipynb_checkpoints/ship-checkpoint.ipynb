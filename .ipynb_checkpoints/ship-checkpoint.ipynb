{
 "cells": [
  {
   "cell_type": "markdown",
   "metadata": {},
   "source": [
    "# Regressor Model for Potential Ship Buyers (Predicting Crew Size)\n",
    "This challenge sees us building a multiple linear regression model for the prediction of the crew size for ships. The dataset was given and already cleaned without missing values.\n",
    "\n",
    "### OBJECTIVES\n",
    "- Read the file and display columns.\n",
    "- Calculate basic statistics of the data (count, mean, std, etc), examine data and state observations.\n",
    "- Select columns that will be probably important to predict crew size.\n",
    "- Create training and testing sets (use 60% of the data for the training and reminder for testing).\n",
    "- Build a machine learning model to predict the crew size.\n",
    "- Calculate the Pearson correlation coefficient for the training set and testing data sets.\n",
    "\n"
   ]
  },
  {
   "cell_type": "markdown",
   "metadata": {},
   "source": [
    "### Importing dependencies and libraries "
   ]
  },
  {
   "cell_type": "code",
   "execution_count": 1,
   "metadata": {},
   "outputs": [],
   "source": [
    "# import all libraries and dependencies for dataframe\n",
    "import pandas as pd\n",
    "import numpy as np\n",
    "import matplotlib.pyplot as plt\n",
    "import seaborn as sns\n",
    "import warnings\n",
    "warnings.filterwarnings(\"ignore\")\n",
    "\n",
    "# import all libraries and dependencies for data visualization\n",
    "pd.options.display.float_format='{:.4f}'.format\n",
    "plt.rcParams['figure.figsize'] = [8,8]\n",
    "pd.set_option('display.max_columns', 500)\n",
    "pd.set_option('display.max_colwidth', -1) \n",
    "sns.set(style='darkgrid')\n",
    "import matplotlib.ticker as ticker\n",
    "import matplotlib.ticker as plticker\n",
    "\n",
    "# import all libraries and dependencies for machine learning\n",
    "from sklearn.model_selection import train_test_split\n",
    "from sklearn import preprocessing\n",
    "from sklearn.preprocessing import StandardScaler\n",
    "from sklearn.preprocessing import MinMaxScaler\n",
    "from sklearn.linear_model import LinearRegression\n",
    "from sklearn.metrics import r2_score\n",
    "from sklearn.metrics import mean_squared_error"
   ]
  },
  {
   "cell_type": "markdown",
   "metadata": {},
   "source": [
    "### Reading the dataset and displaying the columns"
   ]
  },
  {
   "cell_type": "code",
   "execution_count": 2,
   "metadata": {},
   "outputs": [
    {
     "data": {
      "text/html": [
       "<div>\n",
       "<style scoped>\n",
       "    .dataframe tbody tr th:only-of-type {\n",
       "        vertical-align: middle;\n",
       "    }\n",
       "\n",
       "    .dataframe tbody tr th {\n",
       "        vertical-align: top;\n",
       "    }\n",
       "\n",
       "    .dataframe thead th {\n",
       "        text-align: right;\n",
       "    }\n",
       "</style>\n",
       "<table border=\"1\" class=\"dataframe\">\n",
       "  <thead>\n",
       "    <tr style=\"text-align: right;\">\n",
       "      <th></th>\n",
       "      <th>Ship_name</th>\n",
       "      <th>Cruise_line</th>\n",
       "      <th>Age</th>\n",
       "      <th>Tonnage</th>\n",
       "      <th>passengers</th>\n",
       "      <th>length</th>\n",
       "      <th>cabins</th>\n",
       "      <th>passenger_density</th>\n",
       "      <th>crew</th>\n",
       "    </tr>\n",
       "  </thead>\n",
       "  <tbody>\n",
       "    <tr>\n",
       "      <th>0</th>\n",
       "      <td>Journey</td>\n",
       "      <td>Azamara</td>\n",
       "      <td>6</td>\n",
       "      <td>30.2770</td>\n",
       "      <td>6.9400</td>\n",
       "      <td>5.9400</td>\n",
       "      <td>3.5500</td>\n",
       "      <td>42.6400</td>\n",
       "      <td>3.5500</td>\n",
       "    </tr>\n",
       "    <tr>\n",
       "      <th>1</th>\n",
       "      <td>Quest</td>\n",
       "      <td>Azamara</td>\n",
       "      <td>6</td>\n",
       "      <td>30.2770</td>\n",
       "      <td>6.9400</td>\n",
       "      <td>5.9400</td>\n",
       "      <td>3.5500</td>\n",
       "      <td>42.6400</td>\n",
       "      <td>3.5500</td>\n",
       "    </tr>\n",
       "    <tr>\n",
       "      <th>2</th>\n",
       "      <td>Celebration</td>\n",
       "      <td>Carnival</td>\n",
       "      <td>26</td>\n",
       "      <td>47.2620</td>\n",
       "      <td>14.8600</td>\n",
       "      <td>7.2200</td>\n",
       "      <td>7.4300</td>\n",
       "      <td>31.8000</td>\n",
       "      <td>6.7000</td>\n",
       "    </tr>\n",
       "    <tr>\n",
       "      <th>3</th>\n",
       "      <td>Conquest</td>\n",
       "      <td>Carnival</td>\n",
       "      <td>11</td>\n",
       "      <td>110.0000</td>\n",
       "      <td>29.7400</td>\n",
       "      <td>9.5300</td>\n",
       "      <td>14.8800</td>\n",
       "      <td>36.9900</td>\n",
       "      <td>19.1000</td>\n",
       "    </tr>\n",
       "    <tr>\n",
       "      <th>4</th>\n",
       "      <td>Destiny</td>\n",
       "      <td>Carnival</td>\n",
       "      <td>17</td>\n",
       "      <td>101.3530</td>\n",
       "      <td>26.4200</td>\n",
       "      <td>8.9200</td>\n",
       "      <td>13.2100</td>\n",
       "      <td>38.3600</td>\n",
       "      <td>10.0000</td>\n",
       "    </tr>\n",
       "  </tbody>\n",
       "</table>\n",
       "</div>"
      ],
      "text/plain": [
       "     Ship_name Cruise_line  Age  Tonnage  passengers  length  cabins  \\\n",
       "0  Journey      Azamara     6   30.2770  6.9400      5.9400  3.5500    \n",
       "1  Quest        Azamara     6   30.2770  6.9400      5.9400  3.5500    \n",
       "2  Celebration  Carnival    26  47.2620  14.8600     7.2200  7.4300    \n",
       "3  Conquest     Carnival    11  110.0000 29.7400     9.5300  14.8800   \n",
       "4  Destiny      Carnival    17  101.3530 26.4200     8.9200  13.2100   \n",
       "\n",
       "   passenger_density    crew  \n",
       "0 42.6400            3.5500   \n",
       "1 42.6400            3.5500   \n",
       "2 31.8000            6.7000   \n",
       "3 36.9900            19.1000  \n",
       "4 38.3600            10.0000  "
      ]
     },
     "execution_count": 2,
     "metadata": {},
     "output_type": "execute_result"
    }
   ],
   "source": [
    "ship = pd.read_csv('ship_info.csv')\n",
    "ship.head()"
   ]
  },
  {
   "cell_type": "markdown",
   "metadata": {},
   "source": [
    "### Description: Calculating basic statistics of the data (count, mean, std, etc), examining the data and stating observations."
   ]
  },
  {
   "cell_type": "code",
   "execution_count": 3,
   "metadata": {},
   "outputs": [
    {
     "data": {
      "text/plain": [
       "(158, 9)"
      ]
     },
     "execution_count": 3,
     "metadata": {},
     "output_type": "execute_result"
    }
   ],
   "source": [
    "ship.shape"
   ]
  },
  {
   "cell_type": "code",
   "execution_count": 4,
   "metadata": {},
   "outputs": [
    {
     "name": "stdout",
     "output_type": "stream",
     "text": [
      "<class 'pandas.core.frame.DataFrame'>\n",
      "RangeIndex: 158 entries, 0 to 157\n",
      "Data columns (total 9 columns):\n",
      " #   Column             Non-Null Count  Dtype  \n",
      "---  ------             --------------  -----  \n",
      " 0   Ship_name          158 non-null    object \n",
      " 1   Cruise_line        158 non-null    object \n",
      " 2   Age                158 non-null    int64  \n",
      " 3   Tonnage            158 non-null    float64\n",
      " 4   passengers         158 non-null    float64\n",
      " 5   length             158 non-null    float64\n",
      " 6   cabins             158 non-null    float64\n",
      " 7   passenger_density  158 non-null    float64\n",
      " 8   crew               158 non-null    float64\n",
      "dtypes: float64(6), int64(1), object(2)\n",
      "memory usage: 11.2+ KB\n"
     ]
    }
   ],
   "source": [
    "ship.info()"
   ]
  },
  {
   "cell_type": "code",
   "execution_count": 5,
   "metadata": {},
   "outputs": [
    {
     "data": {
      "text/html": [
       "<div>\n",
       "<style scoped>\n",
       "    .dataframe tbody tr th:only-of-type {\n",
       "        vertical-align: middle;\n",
       "    }\n",
       "\n",
       "    .dataframe tbody tr th {\n",
       "        vertical-align: top;\n",
       "    }\n",
       "\n",
       "    .dataframe thead th {\n",
       "        text-align: right;\n",
       "    }\n",
       "</style>\n",
       "<table border=\"1\" class=\"dataframe\">\n",
       "  <thead>\n",
       "    <tr style=\"text-align: right;\">\n",
       "      <th></th>\n",
       "      <th>Age</th>\n",
       "      <th>Tonnage</th>\n",
       "      <th>passengers</th>\n",
       "      <th>length</th>\n",
       "      <th>cabins</th>\n",
       "      <th>passenger_density</th>\n",
       "      <th>crew</th>\n",
       "    </tr>\n",
       "  </thead>\n",
       "  <tbody>\n",
       "    <tr>\n",
       "      <th>count</th>\n",
       "      <td>158.0000</td>\n",
       "      <td>158.0000</td>\n",
       "      <td>158.0000</td>\n",
       "      <td>158.0000</td>\n",
       "      <td>158.0000</td>\n",
       "      <td>158.0000</td>\n",
       "      <td>158.0000</td>\n",
       "    </tr>\n",
       "    <tr>\n",
       "      <th>mean</th>\n",
       "      <td>15.6899</td>\n",
       "      <td>71.2847</td>\n",
       "      <td>18.4574</td>\n",
       "      <td>8.1306</td>\n",
       "      <td>8.8300</td>\n",
       "      <td>39.9009</td>\n",
       "      <td>7.7942</td>\n",
       "    </tr>\n",
       "    <tr>\n",
       "      <th>std</th>\n",
       "      <td>7.6157</td>\n",
       "      <td>37.2295</td>\n",
       "      <td>9.6771</td>\n",
       "      <td>1.7935</td>\n",
       "      <td>4.4714</td>\n",
       "      <td>8.6392</td>\n",
       "      <td>3.5035</td>\n",
       "    </tr>\n",
       "    <tr>\n",
       "      <th>min</th>\n",
       "      <td>4.0000</td>\n",
       "      <td>2.3290</td>\n",
       "      <td>0.6600</td>\n",
       "      <td>2.7900</td>\n",
       "      <td>0.3300</td>\n",
       "      <td>17.7000</td>\n",
       "      <td>0.5900</td>\n",
       "    </tr>\n",
       "    <tr>\n",
       "      <th>25%</th>\n",
       "      <td>10.0000</td>\n",
       "      <td>46.0130</td>\n",
       "      <td>12.5350</td>\n",
       "      <td>7.1000</td>\n",
       "      <td>6.1325</td>\n",
       "      <td>34.5700</td>\n",
       "      <td>5.4800</td>\n",
       "    </tr>\n",
       "    <tr>\n",
       "      <th>50%</th>\n",
       "      <td>14.0000</td>\n",
       "      <td>71.8990</td>\n",
       "      <td>19.5000</td>\n",
       "      <td>8.5550</td>\n",
       "      <td>9.5700</td>\n",
       "      <td>39.0850</td>\n",
       "      <td>8.1500</td>\n",
       "    </tr>\n",
       "    <tr>\n",
       "      <th>75%</th>\n",
       "      <td>20.0000</td>\n",
       "      <td>90.7725</td>\n",
       "      <td>24.8450</td>\n",
       "      <td>9.5100</td>\n",
       "      <td>10.8850</td>\n",
       "      <td>44.1850</td>\n",
       "      <td>9.9900</td>\n",
       "    </tr>\n",
       "    <tr>\n",
       "      <th>max</th>\n",
       "      <td>48.0000</td>\n",
       "      <td>220.0000</td>\n",
       "      <td>54.0000</td>\n",
       "      <td>11.8200</td>\n",
       "      <td>27.0000</td>\n",
       "      <td>71.4300</td>\n",
       "      <td>21.0000</td>\n",
       "    </tr>\n",
       "  </tbody>\n",
       "</table>\n",
       "</div>"
      ],
      "text/plain": [
       "           Age  Tonnage  passengers   length   cabins  passenger_density  \\\n",
       "count 158.0000 158.0000 158.0000    158.0000 158.0000 158.0000             \n",
       "mean  15.6899  71.2847  18.4574     8.1306   8.8300   39.9009              \n",
       "std   7.6157   37.2295  9.6771      1.7935   4.4714   8.6392               \n",
       "min   4.0000   2.3290   0.6600      2.7900   0.3300   17.7000              \n",
       "25%   10.0000  46.0130  12.5350     7.1000   6.1325   34.5700              \n",
       "50%   14.0000  71.8990  19.5000     8.5550   9.5700   39.0850              \n",
       "75%   20.0000  90.7725  24.8450     9.5100   10.8850  44.1850              \n",
       "max   48.0000  220.0000 54.0000     11.8200  27.0000  71.4300              \n",
       "\n",
       "          crew  \n",
       "count 158.0000  \n",
       "mean  7.7942    \n",
       "std   3.5035    \n",
       "min   0.5900    \n",
       "25%   5.4800    \n",
       "50%   8.1500    \n",
       "75%   9.9900    \n",
       "max   21.0000   "
      ]
     },
     "execution_count": 5,
     "metadata": {},
     "output_type": "execute_result"
    }
   ],
   "source": [
    "ship.describe()"
   ]
  },
  {
   "cell_type": "code",
   "execution_count": 6,
   "metadata": {},
   "outputs": [
    {
     "data": {
      "text/plain": [
       "Ship_name            0\n",
       "Cruise_line          0\n",
       "Age                  0\n",
       "Tonnage              0\n",
       "passengers           0\n",
       "length               0\n",
       "cabins               0\n",
       "passenger_density    0\n",
       "crew                 0\n",
       "dtype: int64"
      ]
     },
     "execution_count": 6,
     "metadata": {},
     "output_type": "execute_result"
    }
   ],
   "source": [
    "ship.isnull().sum()"
   ]
  },
  {
   "cell_type": "markdown",
   "metadata": {},
   "source": [
    "We have a dataset with 158 rows and 9 columns with two data types; object in two columns and numeric(float in six columns, integer in one column). We also observe higher median values in most of the rows. No missing values were observed."
   ]
  },
  {
   "cell_type": "code",
   "execution_count": 7,
   "metadata": {},
   "outputs": [
    {
     "data": {
      "text/plain": [
       "(158, 9)"
      ]
     },
     "execution_count": 7,
     "metadata": {},
     "output_type": "execute_result"
    },
    {
     "data": {
      "image/png": "[encoded data removed]",
      "text/plain": [
       "<Figure size 576x576 with 1 Axes>"
      ]
     },
     "metadata": {},
     "output_type": "display_data"
    }
   ],
   "source": [
    "# Outlier Analysis of target variable with maximum amount of Inconsistency\n",
    "outliers = ['crew']\n",
    "plt.rcParams['figure.figsize'] = [8,8]\n",
    "sns.boxplot(data=ship[outliers], orient=\"v\", palette=\"Set1\" ,whis=1.5,saturation=1, width=0.7)\n",
    "plt.title(\"Outliers Variable Distribution\", fontsize = 14, fontweight = 'bold')\n",
    "plt.ylabel(\"Crew Size\", fontweight = 'bold')\n",
    "plt.xlabel(\"Continuous Variable\", fontweight = 'bold')\n",
    "ship.shape"
   ]
  },
  {
   "cell_type": "markdown",
   "metadata": {},
   "source": [
    "Insights: There are some crew sizes above 13.5 which can be termed as outliers which will be addressed using standarization scaling."
   ]
  },
  {
   "cell_type": "code",
   "execution_count": 8,
   "metadata": {},
   "outputs": [
    {
     "data": {
      "text/plain": [
       "array(['Journey', 'Quest', 'Celebration', 'Conquest', 'Destiny',\n",
       "       'Ecstasy', 'Elation', 'Fantasy', 'Fascination', 'Freedom', 'Glory',\n",
       "       'Holiday', 'Imagination', 'Inspiration', 'Legend', 'Liberty*',\n",
       "       'Miracle', 'Paradise', 'Pride', 'Sensation', 'Spirit', 'Triumph',\n",
       "       'Valor', 'Victory', 'Century', 'Constellation', 'Galaxy',\n",
       "       'Infinity', 'Mercury', 'Millenium', 'Solstice', 'Summit',\n",
       "       'Xpedition', 'Zenith', 'Allegra', 'Atlantica', 'Classica',\n",
       "       'Europa', 'Fortuna', 'Magica', 'Marina', 'Mediterranea',\n",
       "       'Romantica', 'Serena', 'Victoria', 'Serenity', 'Symphony',\n",
       "       'QueenElizabethII', 'QueenMary2', 'QueenVictoria', 'Magic',\n",
       "       'Wonder', 'Amsterdam', 'Eurodam', 'Maasdam', 'Noordam',\n",
       "       'Oosterdam', 'Prinsendam', 'Rotterdam', 'Ryndam', 'Statendam',\n",
       "       'Veendam', 'Volendam', 'Westerdam', 'Zaandam', 'Zuiderdam',\n",
       "       'Armonia', 'Fantasia', 'Lirica', 'Melody', 'Musica', 'Opera',\n",
       "       'Rhapsody', 'Sinfonia', 'Crown', 'Dawn', 'Dream', 'Gem', 'Jewel',\n",
       "       'Majesty', 'PrideofAloha', 'PrideofAmerica', 'Sea', 'Star', 'Sun',\n",
       "       'Wind', 'Insignia', 'Nautica', 'Regatta', 'MarcoPolo', 'Arcadia',\n",
       "       'Artemis', 'Aurora', 'Oceana', 'Oriana', 'Ventura', 'Caribbean',\n",
       "       'Coral', 'Diamond', 'Emerald', 'Golden', 'Grand', 'Island',\n",
       "       'Pacific', 'Regal', 'Royal', 'Saphire', 'Tahitian', 'ExplorerII',\n",
       "       'Mariner', 'Navigator', 'PaulGauguin', 'Voyager', 'Adventure',\n",
       "       'Brilliance', 'Empress', 'Enchantment', 'Explorer', 'Grandeur',\n",
       "       'Independence', 'Liberty', 'Monarch', 'Oasis', 'Radiance',\n",
       "       'Serenade', 'Sovreign', 'Splendour', 'Vision', 'Cloud', 'Shadow',\n",
       "       'Whisper', 'Aries', 'Gemini', 'Libra', 'Pisces', 'Taurus', 'Virgo',\n",
       "       'Surf'], dtype=object)"
      ]
     },
     "execution_count": 8,
     "metadata": {},
     "output_type": "execute_result"
    }
   ],
   "source": [
    "# Extracting Ship Company from the Ship_name \n",
    "ship['Ship_name'] = ship['Ship_name'].str.split(' ',expand=True)\n",
    "\n",
    "# Unique Ship company\n",
    "ship['Ship_name'].unique()"
   ]
  },
  {
   "cell_type": "code",
   "execution_count": 9,
   "metadata": {},
   "outputs": [
    {
     "data": {
      "text/plain": [
       "Spirit       4\n",
       "Star         3\n",
       "Legend       3\n",
       "Sea          2\n",
       "Dawn         2\n",
       "            ..\n",
       "Insignia     1\n",
       "Surf         1\n",
       "Allegra      1\n",
       "Xpedition    1\n",
       "Adventure    1\n",
       "Name: Ship_name, Length: 138, dtype: int64"
      ]
     },
     "execution_count": 9,
     "metadata": {},
     "output_type": "execute_result"
    }
   ],
   "source": [
    "# Unique Ship company\n",
    "ship['Ship_name'].value_counts()"
   ]
  },
  {
   "cell_type": "markdown",
   "metadata": {},
   "source": [
    "We have 138 unique ship names."
   ]
  },
  {
   "cell_type": "markdown",
   "metadata": {},
   "source": [
    "### Visualizations"
   ]
  },
  {
   "cell_type": "code",
   "execution_count": 10,
   "metadata": {},
   "outputs": [],
   "source": [
    "# Segregation of Numerical and Categorical Variables/Columns\n",
    "obj_col = ship.select_dtypes(include=['object']).columns\n",
    "num_col = ship.select_dtypes(exclude=['object']).columns\n",
    "ship_obj = ship[obj_col]\n",
    "ship_num = ship[num_col]"
   ]
  },
  {
   "cell_type": "code",
   "execution_count": 11,
   "metadata": {},
   "outputs": [
    {
     "data": {
      "text/plain": [
       "Text(0, 0.5, 'Count of Ships')"
      ]
     },
     "execution_count": 11,
     "metadata": {},
     "output_type": "execute_result"
    },
    {
     "data": {
      "image/png": "[encoded data removed]",
      "text/plain": [
       "<Figure size 1800x360 with 1 Axes>"
      ]
     },
     "metadata": {},
     "output_type": "display_data"
    }
   ],
   "source": [
    "# Visualizing the different ship names available\n",
    "plt.rcParams['figure.figsize'] = [25,5]\n",
    "ax=ship['Ship_name'].value_counts().plot(kind='bar',stacked=True, colormap = 'Set1')\n",
    "ax.title.set_text('Ship Name')\n",
    "plt.xlabel(\"Names of Ships\",fontweight = 'bold')\n",
    "plt.ylabel(\"Count of Ships\",fontweight = 'bold')"
   ]
  },
  {
   "cell_type": "code",
   "execution_count": 12,
   "metadata": {},
   "outputs": [
    {
     "data": {
      "text/plain": [
       "<matplotlib.axes._subplots.AxesSubplot at 0x1e2e8177220>"
      ]
     },
     "execution_count": 12,
     "metadata": {},
     "output_type": "execute_result"
    },
    {
     "data": {
      "image/png": "[encoded data removed]",
      "text/plain": [
       "<Figure size 576x576 with 1 Axes>"
      ]
     },
     "metadata": {},
     "output_type": "display_data"
    }
   ],
   "source": [
    "#Crew distribution plot\n",
    "plt.figure(figsize=(8,8))\n",
    "plt.title('Crew Size Distribution Plot')\n",
    "sns.distplot(ship['crew'])"
   ]
  },
  {
   "cell_type": "code",
   "execution_count": null,
   "metadata": {},
   "outputs": [],
   "source": [
    "ax = sns.pairplot(ship[num_col])"
   ]
  },
  {
   "cell_type": "markdown",
   "metadata": {},
   "source": [
    "From the pairplot we observe that the Tonnage, Cabins, Length and Passengers values show positive correlations with the dependent variable \"crew\"."
   ]
  },
  {
   "cell_type": "code",
   "execution_count": null,
   "metadata": {},
   "outputs": [],
   "source": [
    "sig_col = ['crew','cabins', 'passengers', 'Tonnage', 'length']\n",
    "ship_sig = ship[sig_col]\n",
    "ship_sig.head()"
   ]
  },
  {
   "cell_type": "markdown",
   "metadata": {},
   "source": [
    "## Build a machine learning model to predict the crew size"
   ]
  },
  {
   "cell_type": "markdown",
   "metadata": {},
   "source": [
    "### Preprocessing \n",
    "From observation we can see that the dataset has some non-numeric values ie. the object columns ('Ship_name', 'Cruise_line'), these non-numeric columns needs to be handled. First, we will be converting all the non-numeric values into numeric ones. This is done by using the dummy encoding method."
   ]
  },
  {
   "cell_type": "code",
   "execution_count": null,
   "metadata": {},
   "outputs": [],
   "source": [
    "ship_cat = ['Ship_name', 'Cruise_line']\n",
    "dummies = pd.get_dummies(ship[ship_cat], drop_first=True)\n",
    "dummies.shape"
   ]
  },
  {
   "cell_type": "code",
   "execution_count": null,
   "metadata": {},
   "outputs": [],
   "source": [
    "dummies.head(3)"
   ]
  },
  {
   "cell_type": "code",
   "execution_count": null,
   "metadata": {},
   "outputs": [],
   "source": [
    "#Re-indexing the column names\n",
    "ship = ship.reindex(columns = ['crew', 'length', 'Tonnage', 'cabins', 'passengers', 'passenger_density', 'Age', 'Ship_name', 'Cruise_line'])\n",
    "ship.head()"
   ]
  },
  {
   "cell_type": "markdown",
   "metadata": {},
   "source": [
    "### Standardization"
   ]
  },
  {
   "cell_type": "code",
   "execution_count": null,
   "metadata": {},
   "outputs": [],
   "source": []
  },
  {
   "cell_type": "code",
   "execution_count": null,
   "metadata": {},
   "outputs": [],
   "source": [
    "plt.figure(figsize = (10, 10))\n",
    "sns.heatmap(ship.corr(), cmap=\"RdYlGn\")\n",
    "plt.show()"
   ]
  },
  {
   "cell_type": "code",
   "execution_count": null,
   "metadata": {},
   "outputs": [],
   "source": [
    "ship.corr()"
   ]
  },
  {
   "cell_type": "markdown",
   "metadata": {},
   "source": [
    "From the heatmap we observe four variables show significant positive correlation with the dependent variable. We will thus work with these variables; Tonnage, Cabins, Passengers and Length."
   ]
  },
  {
   "cell_type": "markdown",
   "metadata": {},
   "source": [
    "### Regression Line PLot Positively Correlated Variables"
   ]
  },
  {
   "cell_type": "code",
   "execution_count": null,
   "metadata": {},
   "outputs": [],
   "source": [
    "# Create arrays for features and target variable\n",
    "X_T = ship['Tonnage'].values\n",
    "y = ship[\"crew\"].values\n",
    "\n",
    "# Reshape X and y\n",
    "y = y.reshape(-1,1)\n",
    "X_T = X_T.reshape(-1,1)\n",
    "\n",
    "# Create the regressor: reg\n",
    "reg = LinearRegression()\n",
    "\n",
    "# Create the prediction space\n",
    "prediction_space = np.linspace(min(X_T), max(X_T)).reshape(-1,1)\n",
    "\n",
    "# Fit the model to the data\n",
    "reg.fit(X_T, y)\n",
    "\n",
    "# Compute predictions over the prediction space: y_pred\n",
    "y_pred = reg.predict(prediction_space)\n",
    "\n",
    "# Print R^2 \n",
    "print(\"R squared (crew & Tonnage):\",reg.score(X_T, y))\n",
    "\n",
    "# Plot regression line\n",
    "ship.plot(kind=\"scatter\", x ='Tonnage', y='crew',s = 4, color='red')\n",
    "plt.plot(prediction_space, y_pred, linewidth=2, color='black')\n",
    "plt.show()"
   ]
  },
  {
   "cell_type": "code",
   "execution_count": null,
   "metadata": {},
   "outputs": [],
   "source": [
    "# Create arrays for features and target variable\n",
    "X_c = ship['cabins'].values\n",
    "y = ship[\"crew\"].values\n",
    "\n",
    "# Reshape X and y\n",
    "y = y.reshape(-1,1)\n",
    "X_c = X_c.reshape(-1,1)\n",
    "\n",
    "# Create the regressor: reg\n",
    "reg = LinearRegression()\n",
    "\n",
    "# Create the prediction space\n",
    "prediction_space = np.linspace(min(X_c), max(X_c)).reshape(-1,1)\n",
    "\n",
    "# Fit the model to the data\n",
    "reg.fit(X_c, y)\n",
    "\n",
    "# Compute predictions over the prediction space: y_pred\n",
    "y_pred = reg.predict(prediction_space)\n",
    "\n",
    "# Print R^2 \n",
    "print(\"R squared (crew & cabins):\",reg.score(X_c, y))\n",
    "\n",
    "# Plot regression line\n",
    "ship.plot(kind=\"scatter\", x ='cabins', y='crew',s = 4, color='red')\n",
    "plt.plot(prediction_space, y_pred, linewidth=2, color='black')\n",
    "plt.show()"
   ]
  },
  {
   "cell_type": "code",
   "execution_count": null,
   "metadata": {},
   "outputs": [],
   "source": [
    "# Create arrays for features and target variable\n",
    "X_p = ship['passengers'].values\n",
    "y = ship[\"crew\"].values\n",
    "\n",
    "# Reshape X and y\n",
    "y = y.reshape(-1,1)\n",
    "X_p = X_p.reshape(-1,1)\n",
    "\n",
    "# Create the regressor: reg\n",
    "reg = LinearRegression()\n",
    "\n",
    "# Create the prediction space\n",
    "prediction_space = np.linspace(min(X_p), max(X_p)).reshape(-1,1)\n",
    "\n",
    "# Fit the model to the data\n",
    "reg.fit(X_p, y)\n",
    "\n",
    "# Compute predictions over the prediction space: y_pred\n",
    "y_pred = reg.predict(prediction_space)\n",
    "\n",
    "# Print R^2 \n",
    "print(\"R squared (crew & passengers):\",reg.score(X_p, y))\n",
    "\n",
    "# Plot regression line\n",
    "ship.plot(kind=\"scatter\", x ='passengers', y='crew',s = 4, color='red')\n",
    "plt.plot(prediction_space, y_pred, linewidth=2, color='black')\n",
    "plt.show()"
   ]
  },
  {
   "cell_type": "code",
   "execution_count": null,
   "metadata": {},
   "outputs": [],
   "source": [
    "# Create arrays for features and target variable\n",
    "X_l = ship['length'].values\n",
    "y = ship[\"crew\"].values\n",
    "\n",
    "# Reshape X and y\n",
    "y = y.reshape(-1,1)\n",
    "X_l = X_l.reshape(-1,1)\n",
    "\n",
    "# Create the regressor: reg\n",
    "reg = LinearRegression()\n",
    "\n",
    "# Create the prediction space\n",
    "prediction_space = np.linspace(min(X_l), max(X_l)).reshape(-1,1)\n",
    "\n",
    "# Fit the model to the data\n",
    "reg.fit(X_l, y)\n",
    "\n",
    "# Compute predictions over the prediction space: y_pred\n",
    "y_pred = reg.predict(prediction_space)\n",
    "\n",
    "# Print R^2 \n",
    "print(\"R squared (crew & length):\",reg.score(X_l, y))\n",
    "\n",
    "# Plot regression line\n",
    "ship.plot(kind=\"scatter\", x ='length', y='crew',s = 4, color='red')\n",
    "plt.plot(prediction_space, y_pred, linewidth=2, color='black')\n",
    "plt.show()"
   ]
  },
  {
   "cell_type": "markdown",
   "metadata": {},
   "source": [
    "### Splitting the data set into train and test sets"
   ]
  },
  {
   "cell_type": "code",
   "execution_count": null,
   "metadata": {},
   "outputs": [],
   "source": [
    "# Create arrays for features and target variable\n",
    "X = ship[['Tonnage','passengers','length','cabins']].values\n",
    "y = ship[\"crew\"].values\n",
    "\n",
    "# Create training and test sets\n",
    "X_train, X_test, y_train, y_test = train_test_split(X, y, test_size = 0.4, random_state=42)\n",
    "\n",
    "X_train.shape, y_train.shape\n",
    "X_test.shape, y_test.shape"
   ]
  },
  {
   "cell_type": "code",
   "execution_count": null,
   "metadata": {},
   "outputs": [],
   "source": [
    "# Create the regressor: reg_all\n",
    "reg = LinearRegression()\n",
    "\n",
    "# Fit the regressor to the training data\n",
    "reg.fit(X_train,y_train)\n",
    "\n",
    "# Predict on the test data: y_pred\n",
    "y_pred = reg.predict(X_test)\n",
    "\n",
    "# Compute and print R^2 and RMSE\n",
    "print(\"R^2: {}\".format(reg.score(X_test, y_test)))\n",
    "print(\"(R^2): %.2f\" %r2_score(y_test, y_pred))\n",
    "rmse = np.sqrt(mean_squared_error(y_test, y_pred))\n",
    "print(\"Root Mean Squared Error: {}\".format(rmse))"
   ]
  },
  {
   "cell_type": "markdown",
   "metadata": {},
   "source": [
    "We can see that the value of root mean squared error is 0.257, which is less than 10% of the mean value of the crew. This means that our algorithm is accurate and can make reasonably good predictions"
   ]
  },
  {
   "cell_type": "code",
   "execution_count": null,
   "metadata": {},
   "outputs": [],
   "source": [
    "from sklearn import metrics\n",
    "print('Mean Absolute Error:', metrics.mean_absolute_error(y_test, y_pred))\n",
    "print('Mean Squared Error:', metrics.mean_squared_error(y_test, y_pred))\n",
    "print('Root Mean Squared Error:', np.sqrt(metrics.mean_squared_error(y_test, y_pred)))\n",
    "print('intercept: ', reg.intercept_)"
   ]
  },
  {
   "cell_type": "markdown",
   "metadata": {},
   "source": [
    "### Calculating the Pearson correlation coefficient for the training set and testing data sets."
   ]
  },
  {
   "cell_type": "markdown",
   "metadata": {},
   "source": [
    "Pearson's correlation coefficient (r) is a measure of the strength of the association between the two variables.\n"
   ]
  },
  {
   "cell_type": "code",
   "execution_count": null,
   "metadata": {},
   "outputs": [],
   "source": [
    "print('coefficient: ', reg.coef_)"
   ]
  },
  {
   "cell_type": "markdown",
   "metadata": {},
   "source": [
    "### Dataframe showing the Standardized Actual Test and Predicted Test"
   ]
  },
  {
   "cell_type": "code",
   "execution_count": null,
   "metadata": {},
   "outputs": [],
   "source": [
    "#Creating a dataframe for standardized actual test and the predicted test\n",
    "df = pd.DataFrame({'Actual': y_test, 'Predicted': y_pred})\n",
    "df"
   ]
  },
  {
   "cell_type": "code",
   "execution_count": null,
   "metadata": {},
   "outputs": [],
   "source": [
    "scaler = preprocessing.StandardScaler()\n",
    "ship_sig_col = ['crew', 'Tonnage', 'cabins', 'passengers', 'length', 'Age', 'passenger_density']\n",
    "import warnings\n",
    "warnings.filterwarnings(\"ignore\")\n",
    "ship[ship_sig_col] = scaler.fit_transform(ship[ship_sig_col])\n",
    "ship.head()"
   ]
  },
  {
   "cell_type": "markdown",
   "metadata": {},
   "source": [
    " "
   ]
  }
 ],
 "metadata": {
  "kernelspec": {
   "display_name": "Python 3",
   "language": "python",
   "name": "python3"
  },
  "language_info": {
   "codemirror_mode": {
    "name": "ipython",
    "version": 3
   },
   "file_extension": ".py",
   "mimetype": "text/x-python",
   "name": "python",
   "nbconvert_exporter": "python",
   "pygments_lexer": "ipython3",
   "version": "3.8.3"
  }
 },
 "nbformat": 4,
 "nbformat_minor": 4
}
